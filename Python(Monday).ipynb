{
  "nbformat": 4,
  "nbformat_minor": 0,
  "metadata": {
    "colab": {
      "name": "Python(Monday).ipynb",
      "provenance": [],
      "authorship_tag": "ABX9TyPb8g79Mv8wo5rDizjIqlRl",
      "include_colab_link": true
    },
    "kernelspec": {
      "name": "python3",
      "display_name": "Python 3"
    }
  },
  "cells": [
    {
      "cell_type": "markdown",
      "metadata": {
        "id": "view-in-github",
        "colab_type": "text"
      },
      "source": [
        "<a href=\"https://colab.research.google.com/github/RishKamity/Python-Calculator/blob/main/Python(Monday).ipynb\" target=\"_parent\"><img src=\"https://colab.research.google.com/assets/colab-badge.svg\" alt=\"Open In Colab\"/></a>"
      ]
    },
    {
      "cell_type": "code",
      "metadata": {
        "id": "h7PKjQcRToQi",
        "colab": {
          "base_uri": "https://localhost:8080/",
          "height": 34
        },
        "outputId": "1815b2a8-eda9-4723-9d4a-360140d58f4e"
      },
      "source": [
        "def maximum(lst):\n",
        "  if lst == []:\n",
        "    return None\n",
        "  Maxsofar = lst[0]\n",
        "  for i in range(len(lst)):\n",
        "    if lst[i] > Maxsofar:\n",
        "      Maxsofar = lst[i]\n",
        "  return Maxsofar\n",
        "  if lst == []:\n",
        "    return None\n",
        "\n",
        "maximum([1, 2, 6, -1, 0])"
      ],
      "execution_count": null,
      "outputs": [
        {
          "output_type": "execute_result",
          "data": {
            "text/plain": [
              "6"
            ]
          },
          "metadata": {
            "tags": []
          },
          "execution_count": 12
        }
      ]
    },
    {
      "cell_type": "code",
      "metadata": {
        "id": "1uiIMNrvbbyU",
        "colab": {
          "base_uri": "https://localhost:8080/",
          "height": 68
        },
        "outputId": "e6401880-10b4-4ea7-f357-f0a5ce73f62f"
      },
      "source": [
        "def printReversed(lst):\n",
        "  for i in range(len(lst)-1, -1, -1):\n",
        "    print(lst[i])\n",
        "#start is length - 1\n",
        "#end is 0\n",
        "#step is -1\n",
        "printReversed([10, 20, 30])"
      ],
      "execution_count": null,
      "outputs": [
        {
          "output_type": "stream",
          "text": [
            "30\n",
            "20\n",
            "10\n"
          ],
          "name": "stdout"
        }
      ]
    },
    {
      "cell_type": "code",
      "metadata": {
        "id": "4fCXsaFLUrSe",
        "colab": {
          "base_uri": "https://localhost:8080/",
          "height": 35
        },
        "outputId": "a29f6095-3e79-4538-c37a-10426d92fe66"
      },
      "source": [
        "def addListNumbers(lst):\n",
        "  sum = 0\n",
        "  for i in range(len(lst)):\n",
        "    result = sum + lst[i]\n",
        "    sum = result\n",
        "  return sum\n",
        "\n",
        "def bigger(lst1, lst2):\n",
        "\n",
        "  firstList = addListNumbers(lst1)\n",
        "\n",
        "  secondList = addListNumbers(lst2)\n",
        "\n",
        "  if firstList > secondList:\n",
        "\n",
        "    return (lst1)\n",
        "\n",
        "  elif secondList > firstList:\n",
        "\n",
        "    return (lst2)\n",
        "\n",
        "  else:\n",
        "\n",
        "    return (\"both\")\n",
        "\n",
        "\n",
        "bigger([], [])"
      ],
      "execution_count": null,
      "outputs": [
        {
          "output_type": "execute_result",
          "data": {
            "application/vnd.google.colaboratory.intrinsic+json": {
              "type": "string"
            },
            "text/plain": [
              "'both'"
            ]
          },
          "metadata": {
            "tags": []
          },
          "execution_count": 25
        }
      ]
    },
    {
      "cell_type": "code",
      "metadata": {
        "id": "RMbl9P1_fzc2"
      },
      "source": [
        "def recursion(something):\n",
        "  something + 10\n",
        "\n",
        "  if something == 100:\n",
        "    return None\n",
        "\n",
        "  recursion(10)"
      ],
      "execution_count": null,
      "outputs": []
    },
    {
      "cell_type": "code",
      "metadata": {
        "id": "Kgau4V48YRoC",
        "colab": {
          "base_uri": "https://localhost:8080/",
          "height": 204
        },
        "outputId": "dd0e4808-d9f6-41c9-8705-35f203fc6ded"
      },
      "source": [
        "#ask the user's name\n",
        "#tell them the rules\n",
        "#ask them for an answer\n",
        "#tell them if they are correct or not\n",
        "#repeat the last two lines 6 times\n",
        "#tell them if they guessed the number\n",
        "import random\n",
        "\n",
        "name = input(\"Welcome to the GUESSING GAME! What is your name? \")\n",
        "print (\"Now, \" +name +\" in this game you should guess a number between 1 and 20.\")\n",
        "correctNumber = random.randrange(1, 21)\n",
        "\n",
        "for i in range(5):\n",
        "  print(\"Take a guess:\")\n",
        "  enteredText = input()\n",
        "  intEnteredText = int(enteredText)\n",
        "\n",
        "  if intEnteredText == correctNumber:\n",
        "    break\n",
        "  elif intEnteredText < correctNumber:\n",
        "    print(\"Your number is too low.\")\n",
        "  else:\n",
        "    print(\"Your number is too high.\")\n",
        "\n",
        "if intEnteredText == correctNumber:\n",
        "    print(\"Good job!\")\n",
        "else:\n",
        "  print(\"You lose, better luck next time!\")\n"
      ],
      "execution_count": null,
      "outputs": [
        {
          "output_type": "stream",
          "text": [
            "Welcome to the GUESSING GAME! What is your name? Rish\n",
            "Now, Rish in this game you should guess a number between 1 and 20.\n",
            "Take a guess:\n",
            "10\n",
            "Your number is too low.\n",
            "Take a guess:\n",
            "12\n",
            "Your number is too high.\n",
            "Take a guess:\n",
            "11\n",
            "Good job!\n"
          ],
          "name": "stdout"
        }
      ]
    },
    {
      "cell_type": "markdown",
      "metadata": {
        "id": "thhSXmWcitK9"
      },
      "source": [
        "Calculator Code:"
      ]
    },
    {
      "cell_type": "code",
      "metadata": {
        "id": "mrbR7GoocEbU",
        "colab": {
          "base_uri": "https://localhost:8080/",
          "height": 119
        },
        "outputId": "0fdb1c80-9528-4f5d-ce33-d86037b211d2"
      },
      "source": [
        "def addition():\n",
        "  sumSoFar = 0\n",
        "  numCounter = 0\n",
        "  while True:\n",
        "    number = input(\"Write the number you want to add.  \")\n",
        "    try:\n",
        "      float(number)\n",
        "      sumSoFar = sumSoFar + float(number)\n",
        "      numCounter = numCounter + 1\n",
        "    except:\n",
        "      break\n",
        "\n",
        "  return([sumSoFar, numCounter])\n",
        "\n",
        "\n",
        "addition()"
      ],
      "execution_count": null,
      "outputs": [
        {
          "output_type": "stream",
          "text": [
            "Write the number you want to add.  2.5\n",
            "Write the number you want to add.  2.5\n",
            "Write the number you want to add.  2.5\n",
            "Write the number you want to add.  2.5\n",
            "Write the number you want to add.  n\n"
          ],
          "name": "stdout"
        },
        {
          "output_type": "execute_result",
          "data": {
            "text/plain": [
              "[10.0, 4]"
            ]
          },
          "metadata": {
            "tags": []
          },
          "execution_count": 43
        }
      ]
    },
    {
      "cell_type": "code",
      "metadata": {
        "id": "-V0KxhuWipCc",
        "colab": {
          "base_uri": "https://localhost:8080/",
          "height": 85
        },
        "outputId": "92c32559-f895-4964-ba8f-f18ef9a68427"
      },
      "source": [
        "def multiplication():\n",
        "  answerSoFar = 1\n",
        "  numCounter = 0\n",
        "  while True:\n",
        "    number = input(\"Write the number you want to multiply.  \")\n",
        "    try:\n",
        "      float(number)\n",
        "      answerSoFar = answerSoFar * float(number)\n",
        "      numCounter = numCounter + 1\n",
        "    except:\n",
        "      break\n",
        "\n",
        "  return([answerSoFar, numCounter])\n",
        "\n",
        "\n",
        "multiplication()"
      ],
      "execution_count": null,
      "outputs": [
        {
          "output_type": "stream",
          "text": [
            "Write the number you want to multiply.  5\n",
            "Write the number you want to multiply.  0.5\n",
            "Write the number you want to multiply.  n\n"
          ],
          "name": "stdout"
        },
        {
          "output_type": "execute_result",
          "data": {
            "text/plain": [
              "[2.5, 2]"
            ]
          },
          "metadata": {
            "tags": []
          },
          "execution_count": 42
        }
      ]
    },
    {
      "cell_type": "code",
      "metadata": {
        "id": "FtITx9X0jhRE",
        "colab": {
          "base_uri": "https://localhost:8080/",
          "height": 85
        },
        "outputId": "1d4a11be-92f7-4ff8-e106-4ae7aa3dba53"
      },
      "source": [
        "def subtraction():\n",
        "  diffSoFar = 0\n",
        "  numCounter = 1\n",
        "\n",
        "  bigNumber = input(\"Write the minuend in the subtraction problem.  \")\n",
        "  bigNumber = float(bigNumber)\n",
        "\n",
        "  while True:\n",
        "    number = input(\"Write the number you want to subtract.  \")\n",
        "    try:\n",
        "      float(number)\n",
        "      bigNumber = bigNumber - float(number)\n",
        "      numCounter = numCounter + 1\n",
        "    except:\n",
        "      break\n",
        "\n",
        "  return([bigNumber, numCounter])\n",
        "\n",
        "\n",
        "subtraction()"
      ],
      "execution_count": null,
      "outputs": [
        {
          "output_type": "stream",
          "text": [
            "Write the minuend in the subtraction problem.  5\n",
            "Write the number you want to subtract.  2.5\n",
            "Write the number you want to subtract.  n\n"
          ],
          "name": "stdout"
        },
        {
          "output_type": "execute_result",
          "data": {
            "text/plain": [
              "[2.5, 2]"
            ]
          },
          "metadata": {
            "tags": []
          },
          "execution_count": 41
        }
      ]
    },
    {
      "cell_type": "code",
      "metadata": {
        "id": "fTc04Vg-mT8j",
        "colab": {
          "base_uri": "https://localhost:8080/",
          "height": 119
        },
        "outputId": "3c747fe3-35eb-4fc6-b2b0-635dead2c57d"
      },
      "source": [
        "def average():\n",
        "  sumSoFar = 0\n",
        "  numCounter = 0\n",
        "  while True:\n",
        "    number = input(\"Write a number in your list.  \")\n",
        "    try:\n",
        "      float(number)\n",
        "      sumSoFar = sumSoFar + float(number)\n",
        "      numCounter = numCounter + 1\n",
        "    except:\n",
        "      break\n",
        "  \n",
        "  return[sumSoFar/numCounter, numCounter]\n",
        "\n",
        "\n",
        "average()"
      ],
      "execution_count": null,
      "outputs": [
        {
          "output_type": "stream",
          "text": [
            "Write a number in your list.  1\n",
            "Write a number in your list.  2\n",
            "Write a number in your list.  3\n",
            "Write a number in your list.  4\n",
            "Write a number in your list.  n\n"
          ],
          "name": "stdout"
        },
        {
          "output_type": "execute_result",
          "data": {
            "text/plain": [
              "[2.5, 4]"
            ]
          },
          "metadata": {
            "tags": []
          },
          "execution_count": 40
        }
      ]
    },
    {
      "cell_type": "code",
      "metadata": {
        "id": "Dj4KB315fiPc",
        "colab": {
          "base_uri": "https://localhost:8080/",
          "height": 85
        },
        "outputId": "c73c9f18-2519-4805-c942-8d67bfe48099"
      },
      "source": [
        "def division():\n",
        "  diffSoFar = 0\n",
        "  numCounter = 1\n",
        "\n",
        "  bigNumber = input(\"Write the dividend in the division problem.  \")\n",
        "  bigNumber = float(bigNumber)\n",
        "\n",
        "  while True:\n",
        "    number = input(\"Write the number you want to divide.  \")\n",
        "    try:\n",
        "      numCounter = numCounter + 1\n",
        "      float(number)\n",
        "      if float(number) == 0:\n",
        "        bigNumber = \"Undefined\"\n",
        "        print(\"You cannot divide by 0! Why did you make such a grave mistake!! Also it is undefined.\")\n",
        "        break\n",
        "      bigNumber = bigNumber / float(number)\n",
        "    except:\n",
        "      break\n",
        "\n",
        "  return([bigNumber, numCounter])\n",
        "\n",
        "\n",
        "division()"
      ],
      "execution_count": null,
      "outputs": [
        {
          "output_type": "stream",
          "text": [
            "Write the dividend in the division problem.  100\n",
            "Write the number you want to divide.  0\n",
            "You cannot divide by 0! Why did you make such a grave mistake!! Also it is undefined.\n"
          ],
          "name": "stdout"
        },
        {
          "output_type": "execute_result",
          "data": {
            "text/plain": [
              "['Undefined', 2]"
            ]
          },
          "metadata": {
            "tags": []
          },
          "execution_count": 15
        }
      ]
    },
    {
      "cell_type": "code",
      "metadata": {
        "id": "it9ppU6AkRsQ",
        "colab": {
          "base_uri": "https://localhost:8080/"
        },
        "outputId": "733544eb-e0d1-44ff-f9e8-4d2bbc631d78"
      },
      "source": [
        "def addition():\n",
        "  sumSoFar = 0\n",
        "  numCounter = 0\n",
        "  while True:\n",
        "    number = input(\"Write the number you want to add.  \")\n",
        "    try:\n",
        "      float(number)\n",
        "      sumSoFar = sumSoFar + float(number)\n",
        "      numCounter = numCounter + 1\n",
        "    except:\n",
        "      break\n",
        "\n",
        "  return ([sumSoFar, numCounter])\n",
        "\n",
        "def multiplication():\n",
        "  answerSoFar = 1\n",
        "  numCounter = 0\n",
        "  while True:\n",
        "    number = input(\"Write the number you want to multiply.  \")\n",
        "    try:\n",
        "      float(number)\n",
        "      answerSoFar = answerSoFar * float(number)\n",
        "      numCounter = numCounter + 1\n",
        "    except:\n",
        "      break\n",
        "\n",
        "  return[answerSoFar, numCounter]\n",
        "\n",
        "def subtraction():\n",
        "  diffSoFar = 0\n",
        "  numCounter = 1\n",
        "\n",
        "  bigNumber = input(\"Write the minuend in the subtraction problem.  \")\n",
        "  bigNumber = float(bigNumber)\n",
        "\n",
        "  while True:\n",
        "    number = input(\"Write the number you want to subtract.  \")\n",
        "    try:\n",
        "      float(number)\n",
        "      bigNumber = bigNumber - float(number)\n",
        "      numCounter = numCounter + 1\n",
        "    except:\n",
        "      break\n",
        "\n",
        "  return ([bigNumber, numCounter])\n",
        "\n",
        "def average():\n",
        "  sumSoFar = 0\n",
        "  numCounter = 0\n",
        "  while True:\n",
        "    number = input(\"Write a number in your list.  \")\n",
        "    try:\n",
        "      float(number)\n",
        "      sumSoFar = sumSoFar + float(number)\n",
        "      numCounter = numCounter + 1\n",
        "    except:\n",
        "      break\n",
        "  \n",
        "  return ([sumSoFar/numCounter, numCounter])\n",
        "\n",
        "def division():\n",
        "  diffSoFar = 0\n",
        "  numCounter = 1\n",
        "\n",
        "  bigNumber = input(\"Write the dividend in the division problem.  \")\n",
        "  bigNumber = float(bigNumber)\n",
        "\n",
        "  while True:\n",
        "    number = input(\"Write the number you want to divide.  \")\n",
        "    try:\n",
        "      numCounter = numCounter + 1\n",
        "      float(number)\n",
        "      if float(number) == 0:\n",
        "        bigNumber = \"Undefined\"\n",
        "        print(\"You cannot divide by 0! Why did you make such a grave mistake!! Also it is undefined.\")\n",
        "        break\n",
        "      bigNumber = bigNumber / float(number)\n",
        "    except:\n",
        "      break\n",
        "\n",
        "  return ([bigNumber, numCounter])\n",
        "\n",
        "\n",
        "\n",
        "\n",
        "def Calculator():\n",
        "  calculation = input(\"Would you like me to perform addition, subtraction, multiplication, division, or finding the average?  \").lower()\n",
        "\n",
        "  if calculation == \"addition\":\n",
        "    return addition()\n",
        "  elif calculation == \"subtraction\":\n",
        "    return subtraction()\n",
        "  elif calculation == \"multiplication\":\n",
        "    return multiplication()\n",
        "  elif calculation == \"division\":\n",
        "    return division()\n",
        "  elif calculation == \"finding the average\":\n",
        "    return average()\n",
        "  else:\n",
        "    return (\"Sorry, this calculation is not available. We will never update, so get a better calculator.\")\n",
        "\n",
        "\n",
        "\n",
        "Calculator()"
      ],
      "execution_count": null,
      "outputs": [
        {
          "output_type": "stream",
          "text": [
            "Would you like me to perform addition, subtraction, multiplication, division, or finding the average?  multiplication\n",
            "Write the number you want to multiply.  9\n",
            "Write the number you want to multiply.  3628921\n",
            "Write the number you want to multiply.  stop\n"
          ],
          "name": "stdout"
        },
        {
          "output_type": "execute_result",
          "data": {
            "text/plain": [
              "[32660289.0, 2]"
            ]
          },
          "metadata": {
            "tags": []
          },
          "execution_count": 1
        }
      ]
    },
    {
      "cell_type": "code",
      "metadata": {
        "id": "dXJcbgGB22pD",
        "colab": {
          "base_uri": "https://localhost:8080/"
        },
        "outputId": "397218e1-30d0-4fe2-bd55-b781c89242ee"
      },
      "source": [
        "def index(rows, columns):\n",
        "  for i in range(rows):\n",
        "    for j in range(columns):\n",
        "      print(str(i) + str(j))\n",
        "    print(\"This row is complete!\")\n",
        "\n",
        "index(5, 5)"
      ],
      "execution_count": null,
      "outputs": [
        {
          "output_type": "stream",
          "text": [
            "00\n",
            "01\n",
            "02\n",
            "03\n",
            "04\n",
            "This row is complete!\n",
            "10\n",
            "11\n",
            "12\n",
            "13\n",
            "14\n",
            "This row is complete!\n",
            "20\n",
            "21\n",
            "22\n",
            "23\n",
            "24\n",
            "This row is complete!\n",
            "30\n",
            "31\n",
            "32\n",
            "33\n",
            "34\n",
            "This row is complete!\n",
            "40\n",
            "41\n",
            "42\n",
            "43\n",
            "44\n",
            "This row is complete!\n"
          ],
          "name": "stdout"
        }
      ]
    },
    {
      "cell_type": "code",
      "metadata": {
        "id": "m2h-Djk2ly8W",
        "colab": {
          "base_uri": "https://localhost:8080/"
        },
        "outputId": "28d81f44-86d3-44a4-923a-c4b328ed07dd"
      },
      "source": [
        "#Hangman\n",
        "#You know how hangman works\n",
        "\n",
        "\n",
        "#hangman art helper function\n",
        "#random word picker\n",
        "import random\n",
        "\n",
        "\n",
        "def randWordPicker():\n",
        "  wordList = 'ant baboon badger bat bear beaver camel cat clam cobra cougar coyote crow deer dog donkey duck eagle ferret fox frog goat goose hawk lion lizard llama mole monkey moose mouse mule newt otter owl panda parrot pigeon python rabbit ram rat raven rhino salmon seal shark sheep skunk sloth snake spider stork swan tiger toad trout turkey turtle weasel whale wolf wombat zebra'.split()\n",
        "  return random.choice(wordList)\n",
        "\n",
        "\n",
        "\n",
        "def mainFunc():\n",
        "  print(\"Welcome to HANGMAN!\")\n",
        "  print(\"Guess the correct word in time to keep your stick figure character alive!\")\n",
        "  print(\"Good Luck!\")\n",
        "  print(\"\")\n",
        "  \n",
        "  randomWord = randWordPicker()\n",
        "  boardDisplay(\"\", randomWord, \"\", 0)\n",
        "\n",
        "  guessesSoFar = []\n",
        "  correctGuesses = []\n",
        "  numCorrectGuesses = 0\n",
        "  wrongGuesses = []\n",
        "  numWrongGuesses = 0\n",
        "\n",
        "  while True:\n",
        "    currentGuess = makeAGuessGuy(guessesSoFar)\n",
        "    guessesSoFar = guessesSoFar + [currentGuess]\n",
        "    if currentGuess in randomWord:\n",
        "      correctGuesses = correctGuesses + [currentGuess]\n",
        "      numCorrectGuesses = numCorrectGuesses + randomWord.count(currentGuess)\n",
        "    else:\n",
        "      wrongGuesses = wrongGuesses + [currentGuess]\n",
        "      numWrongGuesses = numWrongGuesses + 1\n",
        "\n",
        "    boardDisplay(wrongGuesses, randomWord, correctGuesses, numWrongGuesses)\n",
        "\n",
        "    if numWrongGuesses == 6:\n",
        "      print(\"\")\n",
        "      print(\"\")\n",
        "      print(\"You Lose. Better luck next time!!\")\n",
        "      return None\n",
        "    elif numCorrectGuesses == len(randomWord):\n",
        "      print(\"\")\n",
        "      print(\"\")\n",
        "      print(\"You Win!! Have a cookie.\")\n",
        "      return None\n",
        "\n",
        "\n",
        "\n",
        "HANGMANpICKS = ['''\n",
        "  +---+\n",
        "      |\n",
        "      |\n",
        "      |\n",
        "    ===''', '''\n",
        "  +---+\n",
        "  O   |\n",
        "      |\n",
        "      |\n",
        "    ===''', '''\n",
        "  +---+\n",
        "  O   |\n",
        "  |   |\n",
        "      |\n",
        "    ===''', '''\n",
        "  +---+\n",
        "  O   |\n",
        " /|   |\n",
        "      |\n",
        "    ===''', '''\n",
        "  +---+\n",
        "  O   |\n",
        " /|\\  |\n",
        "      |\n",
        "    ===''', '''\n",
        "  +---+\n",
        "  O   |\n",
        " /|\\  |\n",
        " /    |\n",
        "    ===''', '''\n",
        "  +---+\n",
        "  O   |\n",
        " /|\\  |\n",
        " / \\  |\n",
        "    ===''']\n",
        "\n",
        "def wrongGuessesIndicator(wrongGuesses):\n",
        "  print(\"Wrong Guesses:\")\n",
        "  print(\"\")\n",
        "  for i in range(len(wrongGuesses)):\n",
        "    print(wrongGuesses[i]+ \" \",end=\"\")\n",
        "\n",
        "\n",
        "\n",
        "def makeAGuessGuy(guessesSoFar):\n",
        "  guess = str(input(\"Pick a letter, any letter.   \"))\n",
        "  if guess not in guessesSoFar:\n",
        "    return guess\n",
        "  else:\n",
        "    print(\"You already guessed this letter, silly!\")\n",
        "    print(\"Try again.\")\n",
        "    makeAGuessGuy(guessesSoFar)\n",
        "\n",
        "\n",
        "def boardDisplay(wrongGuesses, currentWord, correctGuesses, numWrongGuesses):\n",
        "  print(HANGMANpICKS[numWrongGuesses])\n",
        "  wordLength = len(currentWord)\n",
        "  wrongGuessesIndicator(wrongGuesses)\n",
        "  print(\"\")\n",
        "  print(\"\")\n",
        "  print(\"\")\n",
        "  currentAnswer = \"\"\n",
        "  for j in range(len(currentWord)):\n",
        "    letterMatchFlag = False\n",
        "    for i in range(len(correctGuesses)):\n",
        "      if correctGuesses[i] == currentWord[j]:\n",
        "        letterMatchFlag = True\n",
        "\n",
        "    if letterMatchFlag == True:\n",
        "      currentAnswer = currentAnswer + currentWord[j] + \" \"\n",
        "    else:\n",
        "      currentAnswer = currentAnswer + \"_ \"\n",
        "\n",
        "  print(currentAnswer)\n",
        "\n",
        "mainFunc()"
      ],
      "execution_count": null,
      "outputs": [
        {
          "output_type": "stream",
          "text": [
            "Welcome to HANGMAN!\n",
            "Guess the correct word in time to keep your stick figure character alive!\n",
            "Good Luck!\n",
            "\n",
            "\n",
            "  +---+\n",
            "      |\n",
            "      |\n",
            "      |\n",
            "    ===\n",
            "Wrong Guesses:\n",
            "\n",
            "\n",
            "\n",
            "\n",
            "_ _ _ \n",
            "Pick a letter, any letter.   a\n",
            "\n",
            "  +---+\n",
            "  O   |\n",
            "      |\n",
            "      |\n",
            "    ===\n",
            "Wrong Guesses:\n",
            "\n",
            "a \n",
            "\n",
            "\n",
            "_ _ _ \n",
            "Pick a letter, any letter.   e\n",
            "\n",
            "  +---+\n",
            "  O   |\n",
            "  |   |\n",
            "      |\n",
            "    ===\n",
            "Wrong Guesses:\n",
            "\n",
            "a e \n",
            "\n",
            "\n",
            "_ _ _ \n",
            "Pick a letter, any letter.   o\n",
            "\n",
            "  +---+\n",
            "  O   |\n",
            "  |   |\n",
            "      |\n",
            "    ===\n",
            "Wrong Guesses:\n",
            "\n",
            "a e \n",
            "\n",
            "\n",
            "_ o _ \n",
            "Pick a letter, any letter.   t\n",
            "\n",
            "  +---+\n",
            "  O   |\n",
            " /|   |\n",
            "      |\n",
            "    ===\n",
            "Wrong Guesses:\n",
            "\n",
            "a e t \n",
            "\n",
            "\n",
            "_ o _ \n",
            "Pick a letter, any letter.   w\n",
            "\n",
            "  +---+\n",
            "  O   |\n",
            " /|\\  |\n",
            "      |\n",
            "    ===\n",
            "Wrong Guesses:\n",
            "\n",
            "a e t w \n",
            "\n",
            "\n",
            "_ o _ \n",
            "Pick a letter, any letter.   d\n",
            "\n",
            "  +---+\n",
            "  O   |\n",
            " /|\\  |\n",
            "      |\n",
            "    ===\n",
            "Wrong Guesses:\n",
            "\n",
            "a e t w \n",
            "\n",
            "\n",
            "d o _ \n",
            "Pick a letter, any letter.   g\n",
            "\n",
            "  +---+\n",
            "  O   |\n",
            " /|\\  |\n",
            "      |\n",
            "    ===\n",
            "Wrong Guesses:\n",
            "\n",
            "a e t w \n",
            "\n",
            "\n",
            "d o g \n",
            "\n",
            "\n",
            "You Win!! Have a cookie.\n"
          ],
          "name": "stdout"
        }
      ]
    },
    {
      "cell_type": "code",
      "metadata": {
        "colab": {
          "base_uri": "https://localhost:8080/"
        },
        "id": "G2soOjB5Ddzw",
        "outputId": "270f104f-4a17-4645-e901-8ea7d1bbc2ae"
      },
      "source": [
        "def rowSum(numList):\r\n",
        "  for i in range(len(numList)):\r\n",
        "    currentNumList = numList[i]\r\n",
        "    currentNum = 0\r\n",
        "    for j in range(len(currentNumList)):\r\n",
        "      currentNum = currentNum + currentNumList[j]\r\n",
        "    print(currentNum)\r\n",
        "\r\n",
        "rowSum([[1, 2, 3, 4], [5, 6, 7, 8], [11, 12, 13, 14]])"
      ],
      "execution_count": null,
      "outputs": [
        {
          "output_type": "stream",
          "text": [
            "10\n",
            "26\n",
            "50\n"
          ],
          "name": "stdout"
        }
      ]
    },
    {
      "cell_type": "code",
      "metadata": {
        "colab": {
          "base_uri": "https://localhost:8080/",
          "height": 367
        },
        "id": "qLtiA90UJGXt",
        "outputId": "c00749df-fc20-4e40-92a9-4f7ec6576b7b"
      },
      "source": [
        "def columnSum(numList):\r\n",
        "  for i in range(len(numList)):\r\n",
        "    currentSum = 0\r\n",
        "    for j in range(len(numList[0])):\r\n",
        "      print(numList[j])\r\n",
        "\r\n",
        "columnSum([[1, 2, 3, 4], [5, 6, 7, 8], [11, 12, 13, 14]])"
      ],
      "execution_count": null,
      "outputs": [
        {
          "output_type": "stream",
          "text": [
            "[1, 2, 3, 4]\n",
            "[5, 6, 7, 8]\n",
            "[11, 12, 13, 14]\n"
          ],
          "name": "stdout"
        },
        {
          "output_type": "error",
          "ename": "IndexError",
          "evalue": "ignored",
          "traceback": [
            "\u001b[0;31m---------------------------------------------------------------------------\u001b[0m",
            "\u001b[0;31mIndexError\u001b[0m                                Traceback (most recent call last)",
            "\u001b[0;32m<ipython-input-6-72d2cade60a9>\u001b[0m in \u001b[0;36m<module>\u001b[0;34m()\u001b[0m\n\u001b[1;32m      5\u001b[0m       \u001b[0mprint\u001b[0m\u001b[0;34m(\u001b[0m\u001b[0mnumList\u001b[0m\u001b[0;34m[\u001b[0m\u001b[0mj\u001b[0m\u001b[0;34m]\u001b[0m\u001b[0;34m)\u001b[0m\u001b[0;34m\u001b[0m\u001b[0;34m\u001b[0m\u001b[0m\n\u001b[1;32m      6\u001b[0m \u001b[0;34m\u001b[0m\u001b[0m\n\u001b[0;32m----> 7\u001b[0;31m \u001b[0mcolumnSum\u001b[0m\u001b[0;34m(\u001b[0m\u001b[0;34m[\u001b[0m\u001b[0;34m[\u001b[0m\u001b[0;36m1\u001b[0m\u001b[0;34m,\u001b[0m \u001b[0;36m2\u001b[0m\u001b[0;34m,\u001b[0m \u001b[0;36m3\u001b[0m\u001b[0;34m,\u001b[0m \u001b[0;36m4\u001b[0m\u001b[0;34m]\u001b[0m\u001b[0;34m,\u001b[0m \u001b[0;34m[\u001b[0m\u001b[0;36m5\u001b[0m\u001b[0;34m,\u001b[0m \u001b[0;36m6\u001b[0m\u001b[0;34m,\u001b[0m \u001b[0;36m7\u001b[0m\u001b[0;34m,\u001b[0m \u001b[0;36m8\u001b[0m\u001b[0;34m]\u001b[0m\u001b[0;34m,\u001b[0m \u001b[0;34m[\u001b[0m\u001b[0;36m11\u001b[0m\u001b[0;34m,\u001b[0m \u001b[0;36m12\u001b[0m\u001b[0;34m,\u001b[0m \u001b[0;36m13\u001b[0m\u001b[0;34m,\u001b[0m \u001b[0;36m14\u001b[0m\u001b[0;34m]\u001b[0m\u001b[0;34m]\u001b[0m\u001b[0;34m)\u001b[0m\u001b[0;34m\u001b[0m\u001b[0;34m\u001b[0m\u001b[0m\n\u001b[0m",
            "\u001b[0;32m<ipython-input-6-72d2cade60a9>\u001b[0m in \u001b[0;36mcolumnSum\u001b[0;34m(numList)\u001b[0m\n\u001b[1;32m      3\u001b[0m     \u001b[0mcurrentSum\u001b[0m \u001b[0;34m=\u001b[0m \u001b[0;36m0\u001b[0m\u001b[0;34m\u001b[0m\u001b[0;34m\u001b[0m\u001b[0m\n\u001b[1;32m      4\u001b[0m     \u001b[0;32mfor\u001b[0m \u001b[0mj\u001b[0m \u001b[0;32min\u001b[0m \u001b[0mrange\u001b[0m\u001b[0;34m(\u001b[0m\u001b[0mlen\u001b[0m\u001b[0;34m(\u001b[0m\u001b[0mnumList\u001b[0m\u001b[0;34m[\u001b[0m\u001b[0;36m0\u001b[0m\u001b[0;34m]\u001b[0m\u001b[0;34m)\u001b[0m\u001b[0;34m)\u001b[0m\u001b[0;34m:\u001b[0m\u001b[0;34m\u001b[0m\u001b[0;34m\u001b[0m\u001b[0m\n\u001b[0;32m----> 5\u001b[0;31m       \u001b[0mprint\u001b[0m\u001b[0;34m(\u001b[0m\u001b[0mnumList\u001b[0m\u001b[0;34m[\u001b[0m\u001b[0mj\u001b[0m\u001b[0;34m]\u001b[0m\u001b[0;34m)\u001b[0m\u001b[0;34m\u001b[0m\u001b[0;34m\u001b[0m\u001b[0m\n\u001b[0m\u001b[1;32m      6\u001b[0m \u001b[0;34m\u001b[0m\u001b[0m\n\u001b[1;32m      7\u001b[0m \u001b[0mcolumnSum\u001b[0m\u001b[0;34m(\u001b[0m\u001b[0;34m[\u001b[0m\u001b[0;34m[\u001b[0m\u001b[0;36m1\u001b[0m\u001b[0;34m,\u001b[0m \u001b[0;36m2\u001b[0m\u001b[0;34m,\u001b[0m \u001b[0;36m3\u001b[0m\u001b[0;34m,\u001b[0m \u001b[0;36m4\u001b[0m\u001b[0;34m]\u001b[0m\u001b[0;34m,\u001b[0m \u001b[0;34m[\u001b[0m\u001b[0;36m5\u001b[0m\u001b[0;34m,\u001b[0m \u001b[0;36m6\u001b[0m\u001b[0;34m,\u001b[0m \u001b[0;36m7\u001b[0m\u001b[0;34m,\u001b[0m \u001b[0;36m8\u001b[0m\u001b[0;34m]\u001b[0m\u001b[0;34m,\u001b[0m \u001b[0;34m[\u001b[0m\u001b[0;36m11\u001b[0m\u001b[0;34m,\u001b[0m \u001b[0;36m12\u001b[0m\u001b[0;34m,\u001b[0m \u001b[0;36m13\u001b[0m\u001b[0;34m,\u001b[0m \u001b[0;36m14\u001b[0m\u001b[0;34m]\u001b[0m\u001b[0;34m]\u001b[0m\u001b[0;34m)\u001b[0m\u001b[0;34m\u001b[0m\u001b[0;34m\u001b[0m\u001b[0m\n",
            "\u001b[0;31mIndexError\u001b[0m: list index out of range"
          ]
        }
      ]
    }
  ]
}