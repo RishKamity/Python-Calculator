{
  "nbformat": 4,
  "nbformat_minor": 0,
  "metadata": {
    "colab": {
      "name": "Practice Projects Python.ipynb",
      "provenance": [],
      "collapsed_sections": [],
      "authorship_tag": "ABX9TyOfHkc4GENTUnSzgF0KtIGS",
      "include_colab_link": true
    },
    "kernelspec": {
      "name": "python3",
      "display_name": "Python 3"
    },
    "language_info": {
      "name": "python"
    }
  },
  "cells": [
    {
      "cell_type": "markdown",
      "metadata": {
        "id": "view-in-github",
        "colab_type": "text"
      },
      "source": [
        "<a href=\"https://colab.research.google.com/github/RishKamity/Python-Calculator/blob/main/Practice_Projects_Python.ipynb\" target=\"_parent\"><img src=\"https://colab.research.google.com/assets/colab-badge.svg\" alt=\"Open In Colab\"/></a>"
      ]
    },
    {
      "cell_type": "code",
      "metadata": {
        "colab": {
          "base_uri": "https://localhost:8080/"
        },
        "id": "ULIvv7mcPrYC",
        "outputId": "2fa77a78-a89d-4086-9279-e33463e98b19"
      },
      "source": [
        "for i in range(1, 101):\n",
        "  if i%2 == 1:\n",
        "    [print(i)]\n",
        "  else:\n",
        "    pass"
      ],
      "execution_count": null,
      "outputs": [
        {
          "output_type": "stream",
          "text": [
            "1\n",
            "3\n",
            "5\n",
            "7\n",
            "9\n",
            "11\n",
            "13\n",
            "15\n",
            "17\n",
            "19\n",
            "21\n",
            "23\n",
            "25\n",
            "27\n",
            "29\n",
            "31\n",
            "33\n",
            "35\n",
            "37\n",
            "39\n",
            "41\n",
            "43\n",
            "45\n",
            "47\n",
            "49\n",
            "51\n",
            "53\n",
            "55\n",
            "57\n",
            "59\n",
            "61\n",
            "63\n",
            "65\n",
            "67\n",
            "69\n",
            "71\n",
            "73\n",
            "75\n",
            "77\n",
            "79\n",
            "81\n",
            "83\n",
            "85\n",
            "87\n",
            "89\n",
            "91\n",
            "93\n",
            "95\n",
            "97\n",
            "99\n"
          ],
          "name": "stdout"
        }
      ]
    },
    {
      "cell_type": "code",
      "metadata": {
        "colab": {
          "base_uri": "https://localhost:8080/"
        },
        "id": "HFVw7bBeQVSp",
        "outputId": "726d5a75-7353-4294-c2a4-7b6927762e57"
      },
      "source": [
        "numlist = [\"1\", \"0\", \"1\", \"0\", \"0\", \"1\", \"0\"]\n",
        "newlist = []\n",
        "for i in range(len(numlist)):\n",
        "  if numlist[i] == \"1\":\n",
        "    newlist += \"0\"\n",
        "  elif numlist[i] == \"0\":\n",
        "    newlist += \"1\"\n",
        "  else:\n",
        "    pass\n",
        "print(newlist)"
      ],
      "execution_count": null,
      "outputs": [
        {
          "output_type": "stream",
          "text": [
            "['0', '1', '0', '1', '1', '0', '1']\n"
          ],
          "name": "stdout"
        }
      ]
    },
    {
      "cell_type": "code",
      "metadata": {
        "colab": {
          "base_uri": "https://localhost:8080/"
        },
        "id": "l1NsLMxCSo8E",
        "outputId": "3d09e6b5-464a-427a-a294-9a1d9508f3e2"
      },
      "source": [
        "print (\"*****\")\n",
        "print (\"*   *\")\n",
        "print (\"*   *\")\n",
        "print (\"*****\")"
      ],
      "execution_count": null,
      "outputs": [
        {
          "output_type": "stream",
          "text": [
            "*****\n",
            "*   *\n",
            "*   *\n",
            "*****\n"
          ],
          "name": "stdout"
        }
      ]
    },
    {
      "cell_type": "code",
      "metadata": {
        "colab": {
          "base_uri": "https://localhost:8080/"
        },
        "id": "6YUg1hAhTU0d",
        "outputId": "1e01c7d3-1678-4519-c972-3848716e7c43"
      },
      "source": [
        "def CtoF(celsius):\n",
        "  print(celsius * 1.8 + 32)\n",
        "\n",
        "CtoF(80)\n",
        "\n",
        "def FtoC(fahrenheit):\n",
        "  print ((fahrenheit - 32) * 5/9)\n",
        "\n",
        "FtoC(176)"
      ],
      "execution_count": null,
      "outputs": [
        {
          "output_type": "stream",
          "text": [
            "176.0\n",
            "80.0\n"
          ],
          "name": "stdout"
        }
      ]
    },
    {
      "cell_type": "code",
      "metadata": {
        "colab": {
          "base_uri": "https://localhost:8080/"
        },
        "id": "b5Ep93NkGSX8",
        "outputId": "91e068db-15c7-4e57-933c-f2e8d1c7b9e9"
      },
      "source": [
        "age = int(input(\"Enter your age: \"))\n",
        "year = int(input(\"Enter the current year: \"))\n",
        "print(\"You will turn 100 in the year: \" + str(year - age + 100))"
      ],
      "execution_count": null,
      "outputs": [
        {
          "output_type": "stream",
          "text": [
            "Enter your age: 13\n",
            "Enter the current year: 2021\n",
            "You will turn 100 in the year: 2108\n"
          ],
          "name": "stdout"
        }
      ]
    },
    {
      "cell_type": "code",
      "metadata": {
        "colab": {
          "base_uri": "https://localhost:8080/"
        },
        "id": "T0ZkNd8lGWgL",
        "outputId": "d2b4e646-0599-4570-cd9a-8ee1002b1896"
      },
      "source": [
        "a = [1, 1, 2, 3, 5, 8, 13, 21, 34, 55, 89]\n",
        "for i in a:\n",
        "  if i <= 5:\n",
        "    print(i)\n",
        "  else:\n",
        "    pass"
      ],
      "execution_count": null,
      "outputs": [
        {
          "output_type": "stream",
          "text": [
            "1\n",
            "1\n",
            "2\n",
            "3\n",
            "5\n"
          ],
          "name": "stdout"
        }
      ]
    },
    {
      "cell_type": "code",
      "metadata": {
        "id": "F9HYdcw-GaAJ",
        "colab": {
          "base_uri": "https://localhost:8080/"
        },
        "outputId": "28f0e0a4-e97f-497c-cf84-4748e702149a"
      },
      "source": [
        "def primeWriter(x, y):\n",
        "  for num in range(x, y + 1):\n",
        "    counter = 0\n",
        "    for i in range(1, num + 1):\n",
        "      if num % i == 0:\n",
        "        counter += 1\n",
        "      else:\n",
        "        pass\n",
        "    if counter == 2:\n",
        "      print(num)\n",
        "\n",
        "\n",
        "primeWriter(0, 100)"
      ],
      "execution_count": null,
      "outputs": [
        {
          "output_type": "stream",
          "text": [
            "2\n",
            "3\n",
            "5\n",
            "7\n",
            "11\n",
            "13\n",
            "17\n",
            "19\n",
            "23\n",
            "29\n",
            "31\n",
            "37\n",
            "41\n",
            "43\n",
            "47\n",
            "53\n",
            "59\n",
            "61\n",
            "67\n",
            "71\n",
            "73\n",
            "79\n",
            "83\n",
            "89\n",
            "97\n"
          ],
          "name": "stdout"
        }
      ]
    },
    {
      "cell_type": "code",
      "metadata": {
        "colab": {
          "base_uri": "https://localhost:8080/"
        },
        "id": "ZvxWOKfYGw0r",
        "outputId": "5ff3ad05-cd2a-41ef-fbed-ad35a796b971"
      },
      "source": [
        "for i in range(1,100):\n",
        "    if i% 3== 0 and i%5==0:\n",
        "        print(\"FizzBuzz\")\n",
        "    elif i %3==0:\n",
        "        print(\"Fizz\")\n",
        "    elif i% 5 == 0:\n",
        "        print(\"Buzz\")\n",
        "    else:\n",
        "        print(i)"
      ],
      "execution_count": null,
      "outputs": [
        {
          "output_type": "stream",
          "text": [
            "1\n",
            "2\n",
            "Fizz\n",
            "4\n",
            "Buzz\n",
            "Fizz\n",
            "7\n",
            "8\n",
            "Fizz\n",
            "Buzz\n",
            "11\n",
            "Fizz\n",
            "13\n",
            "14\n",
            "FizzBuzz\n",
            "16\n",
            "17\n",
            "Fizz\n",
            "19\n",
            "Buzz\n",
            "Fizz\n",
            "22\n",
            "23\n",
            "Fizz\n",
            "Buzz\n",
            "26\n",
            "Fizz\n",
            "28\n",
            "29\n",
            "FizzBuzz\n",
            "31\n",
            "32\n",
            "Fizz\n",
            "34\n",
            "Buzz\n",
            "Fizz\n",
            "37\n",
            "38\n",
            "Fizz\n",
            "Buzz\n",
            "41\n",
            "Fizz\n",
            "43\n",
            "44\n",
            "FizzBuzz\n",
            "46\n",
            "47\n",
            "Fizz\n",
            "49\n",
            "Buzz\n",
            "Fizz\n",
            "52\n",
            "53\n",
            "Fizz\n",
            "Buzz\n",
            "56\n",
            "Fizz\n",
            "58\n",
            "59\n",
            "FizzBuzz\n",
            "61\n",
            "62\n",
            "Fizz\n",
            "64\n",
            "Buzz\n",
            "Fizz\n",
            "67\n",
            "68\n",
            "Fizz\n",
            "Buzz\n",
            "71\n",
            "Fizz\n",
            "73\n",
            "74\n",
            "FizzBuzz\n",
            "76\n",
            "77\n",
            "Fizz\n",
            "79\n",
            "Buzz\n",
            "Fizz\n",
            "82\n",
            "83\n",
            "Fizz\n",
            "Buzz\n",
            "86\n",
            "Fizz\n",
            "88\n",
            "89\n",
            "FizzBuzz\n",
            "91\n",
            "92\n",
            "Fizz\n",
            "94\n",
            "Buzz\n",
            "Fizz\n",
            "97\n",
            "98\n",
            "Fizz\n"
          ],
          "name": "stdout"
        }
      ]
    },
    {
      "cell_type": "code",
      "metadata": {
        "colab": {
          "base_uri": "https://localhost:8080/",
          "height": 35
        },
        "id": "zeVVxMQiGz9m",
        "outputId": "69bee9a3-3877-49f6-e7fb-d30c406aa5ec"
      },
      "source": [
        "letters = 'sample string'\n",
        "s2 = letters.replace('s', 'B')\n",
        "s2"
      ],
      "execution_count": null,
      "outputs": [
        {
          "output_type": "execute_result",
          "data": {
            "application/vnd.google.colaboratory.intrinsic+json": {
              "type": "string"
            },
            "text/plain": [
              "'Bample Btring'"
            ]
          },
          "metadata": {
            "tags": []
          },
          "execution_count": 5
        }
      ]
    },
    {
      "cell_type": "code",
      "metadata": {
        "colab": {
          "base_uri": "https://localhost:8080/"
        },
        "id": "MqYQxG0SII6t",
        "outputId": "dd44aaed-7ffb-4a13-d6f5-b0cab3e8f04a"
      },
      "source": [
        "def maximum(lst):\n",
        "  if lst == []:\n",
        "    return None\n",
        "  Maxsofar = lst[0]\n",
        "  for i in range(len(lst)):\n",
        "    if lst[i] > Maxsofar:\n",
        "      Maxsofar = lst[i]\n",
        "  return Maxsofar\n",
        "  if lst == []:\n",
        "    return None\n",
        "\n",
        "maximum([1, 100, 6, -1, 0])"
      ],
      "execution_count": null,
      "outputs": [
        {
          "output_type": "execute_result",
          "data": {
            "text/plain": [
              "100"
            ]
          },
          "metadata": {
            "tags": []
          },
          "execution_count": 24
        }
      ]
    },
    {
      "cell_type": "code",
      "metadata": {
        "id": "ctJdfVUsINCW",
        "colab": {
          "base_uri": "https://localhost:8080/"
        },
        "outputId": "cf6e285c-7716-420f-c962-2ccbf51432da"
      },
      "source": [
        "def printReversed(lst):\n",
        "  for i in range(len(lst)-1, -1, -1):\n",
        "    print(lst[i])\n",
        "#start is length - 1\n",
        "#end is 0\n",
        "#step is -1\n",
        "printReversed([10, 20, 30])"
      ],
      "execution_count": null,
      "outputs": [
        {
          "output_type": "stream",
          "text": [
            "30\n",
            "20\n",
            "10\n"
          ],
          "name": "stdout"
        }
      ]
    },
    {
      "cell_type": "code",
      "metadata": {
        "colab": {
          "base_uri": "https://localhost:8080/"
        },
        "id": "TWdJOhuWINu2",
        "outputId": "215d4266-d816-424d-b41f-bb41e31efc2b"
      },
      "source": [
        "def addListNumbers(lst):\n",
        "  sum = 0\n",
        "  for i in range(len(lst)):\n",
        "    result = sum + lst[i]\n",
        "    sum = result\n",
        "  return sum\n",
        "\n",
        "def bigger(lst1, lst2):\n",
        "\n",
        "  firstList = addListNumbers(lst1)\n",
        "\n",
        "  secondList = addListNumbers(lst2)\n",
        "\n",
        "  if firstList > secondList:\n",
        "\n",
        "    return (lst1)\n",
        "\n",
        "  elif secondList > firstList:\n",
        "\n",
        "    return (lst2)\n",
        "\n",
        "  else:\n",
        "\n",
        "    return (\"both\")\n",
        "\n",
        "\n",
        "bigger([8], [1, 9])"
      ],
      "execution_count": null,
      "outputs": [
        {
          "output_type": "execute_result",
          "data": {
            "text/plain": [
              "[1, 9]"
            ]
          },
          "metadata": {
            "tags": []
          },
          "execution_count": 27
        }
      ]
    },
    {
      "cell_type": "code",
      "metadata": {
        "colab": {
          "base_uri": "https://localhost:8080/"
        },
        "id": "w94D-dfIITLi",
        "outputId": "5568f947-2913-4d9e-b739-2c1ce2361c68"
      },
      "source": [
        "def index(rows, columns):\n",
        "  for i in range(rows):\n",
        "    for j in range(columns):\n",
        "      print(str(i) + str(j))\n",
        "    print(\"This row is complete!\")\n",
        "\n",
        "index(5, 5)"
      ],
      "execution_count": null,
      "outputs": [
        {
          "output_type": "stream",
          "text": [
            "00\n",
            "01\n",
            "02\n",
            "03\n",
            "04\n",
            "This row is complete!\n",
            "10\n",
            "11\n",
            "12\n",
            "13\n",
            "14\n",
            "This row is complete!\n",
            "20\n",
            "21\n",
            "22\n",
            "23\n",
            "24\n",
            "This row is complete!\n",
            "30\n",
            "31\n",
            "32\n",
            "33\n",
            "34\n",
            "This row is complete!\n",
            "40\n",
            "41\n",
            "42\n",
            "43\n",
            "44\n",
            "This row is complete!\n"
          ],
          "name": "stdout"
        }
      ]
    },
    {
      "cell_type": "code",
      "metadata": {
        "colab": {
          "base_uri": "https://localhost:8080/"
        },
        "id": "f_ceLqT5IZ-I",
        "outputId": "821f4263-6fe3-4a3c-b2ad-da24b0d4bd60"
      },
      "source": [
        "def rowSum(numList):\n",
        "  for i in range(len(numList)):\n",
        "    currentNumList = numList[i]\n",
        "    currentNum = 0\n",
        "    for j in range(len(currentNumList)):\n",
        "      currentNum = currentNum + currentNumList[j]\n",
        "    print(currentNum)\n",
        "\n",
        "rowSum([[1, 2, 3, 4], [5, 6, 7, 8], [11, 12, 13, 14]])"
      ],
      "execution_count": null,
      "outputs": [
        {
          "output_type": "stream",
          "text": [
            "10\n",
            "26\n",
            "50\n"
          ],
          "name": "stdout"
        }
      ]
    },
    {
      "cell_type": "code",
      "metadata": {
        "colab": {
          "base_uri": "https://localhost:8080/"
        },
        "id": "iV1_WvyOIeuS",
        "outputId": "113bfb40-338c-4437-fc39-b3b8eec7ebe5"
      },
      "source": [
        "def columnSum(numList):\n",
        "  for column in range(len(numList[0])):\n",
        "    currentSum = 0\n",
        "    for row in range(len(numList)):\n",
        "      currentSum = currentSum + numList[row][column]\n",
        "    print(currentSum)\n",
        "\n",
        "columnSum([[1, 2, 3, 4], [5, 6, 7, 8], [11, 12, 13, 14]])"
      ],
      "execution_count": null,
      "outputs": [
        {
          "output_type": "stream",
          "text": [
            "17\n",
            "20\n",
            "23\n",
            "26\n"
          ],
          "name": "stdout"
        }
      ]
    },
    {
      "cell_type": "code",
      "metadata": {
        "colab": {
          "base_uri": "https://localhost:8080/"
        },
        "id": "SPchVsiLIi3R",
        "outputId": "81094a21-92ef-46fb-b963-3ae535c6ca7d"
      },
      "source": [
        "def listTransposer(numList):\n",
        "  for i in range(len(numList)):\n",
        "    currentNumList = numList[i]\n",
        "    currentNum = 0\n",
        "    for j in range(len(currentNumList)):\n",
        "      numList[i][j] = 30\n",
        "      currentNum = currentNum + currentNumList[j]\n",
        "  print(numList)\n",
        "\n",
        "listTransposer([[1, 2, 3], [4, 5, 6], [7, 8, 9]])"
      ],
      "execution_count": null,
      "outputs": [
        {
          "output_type": "stream",
          "text": [
            "[[30, 30, 30, 30, 30], [30, 30, 30], [30, 30, 30]]\n"
          ],
          "name": "stdout"
        }
      ]
    },
    {
      "cell_type": "code",
      "metadata": {
        "colab": {
          "base_uri": "https://localhost:8080/"
        },
        "id": "-AFqt4deP2kZ",
        "outputId": "6729642f-6eee-43b8-8d02-1616887df8e6"
      },
      "source": [
        "def DtoR(degrees):\n",
        "  print(degrees * 3.141592653589793/180)\n",
        "\n",
        "DtoR(100)\n",
        "\n",
        "def RtoD(radians):\n",
        "  print (radians * 180/3.141592653589793)\n",
        "\n",
        "RtoD(1.7453292519943295)"
      ],
      "execution_count": null,
      "outputs": [
        {
          "output_type": "stream",
          "text": [
            "1.7453292519943295\n",
            "100.0\n"
          ],
          "name": "stdout"
        }
      ]
    },
    {
      "cell_type": "code",
      "metadata": {
        "colab": {
          "base_uri": "https://localhost:8080/"
        },
        "id": "Kux3V7IrWhEB",
        "outputId": "d9ddb74c-8931-4012-f27f-a366f7937e6f"
      },
      "source": [
        "height = int(input(\"Height of trapezoid: \"))\n",
        "base1 = int(input(\"Top base length of trapezoid: \"))\n",
        "base2 = int(input(\"Bottom base length of trapezoid: \"))\n",
        "\n",
        "print((base1 + base2)/2 * height)"
      ],
      "execution_count": null,
      "outputs": [
        {
          "output_type": "stream",
          "text": [
            "Height of trapezoid: 5\n",
            "Top base length of trapezoid: 5\n",
            "Bottom base length of trapezoid: 6\n",
            "27.5\n"
          ],
          "name": "stdout"
        }
      ]
    },
    {
      "cell_type": "code",
      "metadata": {
        "colab": {
          "base_uri": "https://localhost:8080/"
        },
        "id": "K1AwaFIiYqHj",
        "outputId": "4b102a8e-3488-4210-aacf-bb61c16b470f"
      },
      "source": [
        "height = int(input(\"Height of parallelogram: \"))\n",
        "base = int(input(\"Base length of parallelogram: \"))\n",
        "\n",
        "print(base * height)"
      ],
      "execution_count": null,
      "outputs": [
        {
          "output_type": "stream",
          "text": [
            "Height of parallelogram: 5\n",
            "Base length of parallelogram: 6\n",
            "30\n"
          ],
          "name": "stdout"
        }
      ]
    },
    {
      "cell_type": "code",
      "metadata": {
        "id": "OSeitJZoY61u"
      },
      "source": [
        ""
      ],
      "execution_count": null,
      "outputs": []
    }
  ]
}